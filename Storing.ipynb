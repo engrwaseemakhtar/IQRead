{
  "nbformat": 4,
  "nbformat_minor": 0,
  "metadata": {
    "colab": {
      "provenance": [],
      "mount_file_id": "1QqvD5oqThkEzXJfZnfz838th8nnovMiR",
      "authorship_tag": "ABX9TyPx8P5o8fjolFgPhTQQoaC5",
      "include_colab_link": true
    },
    "kernelspec": {
      "name": "python3",
      "display_name": "Python 3"
    },
    "language_info": {
      "name": "python"
    }
  },
  "cells": [
    {
      "cell_type": "markdown",
      "metadata": {
        "id": "view-in-github",
        "colab_type": "text"
      },
      "source": [
        "<a href=\"https://colab.research.google.com/github/engrwaseemakhtar/IQRead/blob/main/Storing.ipynb\" target=\"_parent\"><img src=\"https://colab.research.google.com/assets/colab-badge.svg\" alt=\"Open In Colab\"/></a>"
      ]
    },
    {
      "cell_type": "code",
      "execution_count": null,
      "metadata": {
        "id": "V4Jzdlj8m0Ef"
      },
      "outputs": [],
      "source": []
    },
    {
      "cell_type": "markdown",
      "source": [
        "# Public link\n"
      ],
      "metadata": {
        "id": "2zzMpi9Um40l"
      }
    },
    {
      "cell_type": "code",
      "source": [
        "!wget https://drive.google.com/uc?id=1phaHg9objxK2MwaZmSUZAKQ8kVqlgng4&export=download"
      ],
      "metadata": {
        "colab": {
          "base_uri": "https://localhost:8080/"
        },
        "id": "gzgABI-rvYgm",
        "outputId": "8b42220f-bf7f-4538-a80a-b674cae03d79"
      },
      "execution_count": 2,
      "outputs": [
        {
          "output_type": "stream",
          "name": "stdout",
          "text": [
            "--2024-03-17 19:07:03--  https://drive.google.com/uc?id=1phaHg9objxK2MwaZmSUZAKQ8kVqlgng4\n",
            "Resolving drive.google.com (drive.google.com)... 172.217.12.14, 2607:f8b0:4025:811::200e\n",
            "Connecting to drive.google.com (drive.google.com)|172.217.12.14|:443... connected.\n",
            "HTTP request sent, awaiting response... 303 See Other\n",
            "Location: https://drive.usercontent.google.com/download?id=1phaHg9objxK2MwaZmSUZAKQ8kVqlgng4 [following]\n",
            "--2024-03-17 19:07:03--  https://drive.usercontent.google.com/download?id=1phaHg9objxK2MwaZmSUZAKQ8kVqlgng4\n",
            "Resolving drive.usercontent.google.com (drive.usercontent.google.com)... 172.217.12.1, 2607:f8b0:4025:815::2001\n",
            "Connecting to drive.usercontent.google.com (drive.usercontent.google.com)|172.217.12.1|:443... connected.\n",
            "HTTP request sent, awaiting response... 200 OK\n",
            "Length: 11425 (11K) [application/octet-stream]\n",
            "Saving to: ‘uc?id=1phaHg9objxK2MwaZmSUZAKQ8kVqlgng4’\n",
            "\n",
            "uc?id=1phaHg9objxK2 100%[===================>]  11.16K  --.-KB/s    in 0s      \n",
            "\n",
            "2024-03-17 19:07:04 (103 MB/s) - ‘uc?id=1phaHg9objxK2MwaZmSUZAKQ8kVqlgng4’ saved [11425/11425]\n",
            "\n"
          ]
        }
      ]
    },
    {
      "cell_type": "code",
      "source": [
        "!ls"
      ],
      "metadata": {
        "colab": {
          "base_uri": "https://localhost:8080/"
        },
        "id": "vtCCXOYe0ldt",
        "outputId": "fe73ec01-1a98-4f42-eb8b-ade3772e6a30"
      },
      "execution_count": 3,
      "outputs": [
        {
          "output_type": "stream",
          "name": "stdout",
          "text": [
            " sample_data  'uc?id=1phaHg9objxK2MwaZmSUZAKQ8kVqlgng4'\n"
          ]
        }
      ]
    },
    {
      "cell_type": "code",
      "source": [
        "import pandas as pd"
      ],
      "metadata": {
        "id": "gYn-7KVW1Ap2"
      },
      "execution_count": 4,
      "outputs": []
    },
    {
      "cell_type": "code",
      "source": [
        "pd.readcsv(\"\")"
      ],
      "metadata": {
        "id": "IE2HBmuI1Epe"
      },
      "execution_count": null,
      "outputs": []
    },
    {
      "cell_type": "markdown",
      "source": [
        "# Google drive"
      ],
      "metadata": {
        "id": "LFlOuQpYquHE"
      }
    },
    {
      "cell_type": "code",
      "source": [],
      "metadata": {
        "id": "Z7BekyWAvuz8"
      },
      "execution_count": null,
      "outputs": []
    },
    {
      "cell_type": "markdown",
      "source": [
        "# Github Link"
      ],
      "metadata": {
        "id": "seqgoUAor8fG"
      }
    },
    {
      "cell_type": "code",
      "source": [
        "!git clone https://github.com/datablist/sample-csv-files.git"
      ],
      "metadata": {
        "colab": {
          "base_uri": "https://localhost:8080/"
        },
        "id": "J3ul1dtv23ZU",
        "outputId": "609400aa-86fa-49b2-c237-9d6dabf47b0a"
      },
      "execution_count": 1,
      "outputs": [
        {
          "output_type": "stream",
          "name": "stdout",
          "text": [
            "Cloning into 'sample-csv-files'...\n",
            "remote: Enumerating objects: 10, done.\u001b[K\n",
            "remote: Counting objects: 100% (10/10), done.\u001b[K\n",
            "remote: Compressing objects: 100% (8/8), done.\u001b[K\n",
            "remote: Total 10 (delta 0), reused 10 (delta 0), pack-reused 0\u001b[K\n",
            "Receiving objects: 100% (10/10), 7.05 KiB | 7.05 MiB/s, done.\n"
          ]
        }
      ]
    },
    {
      "cell_type": "markdown",
      "source": [
        "# Local Drive File"
      ],
      "metadata": {
        "id": "yTuTmqhusECa"
      }
    },
    {
      "cell_type": "code",
      "source": [],
      "metadata": {
        "id": "YXwuUDDDqxMw"
      },
      "execution_count": null,
      "outputs": []
    },
    {
      "cell_type": "markdown",
      "source": [],
      "metadata": {
        "id": "8nSmWw6OsAba"
      }
    }
  ]
}